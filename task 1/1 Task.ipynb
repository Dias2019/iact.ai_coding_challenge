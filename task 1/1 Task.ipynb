{
 "cells": [
  {
   "cell_type": "markdown",
   "metadata": {},
   "source": [
    "# Task 1. Open Images Class Hierarchy"
   ]
  },
  {
   "cell_type": "markdown",
   "metadata": {},
   "source": [
    "Task is to do:\n",
    "\n",
    "Create a parser to read class hierarchy files and a data structure to efficiently perform the\n",
    "following operations.\n",
    "- Find all siblings class of a class name\n",
    "- Find the parent class of a class name\n",
    "- Find all ancestor classes of a class name\n",
    "- Find if both class 1 and class 2 belong to the same ancestor class(es)"
   ]
  },
  {
   "cell_type": "markdown",
   "metadata": {},
   "source": [
    "You are provided with two files:\n",
    " - Oidv6-class-descriptions.csv : each line consists of a mid and its corresponding class name\n",
    " - Bbox_labels_600_hierarchy: class hierarchy"
   ]
  },
  {
   "cell_type": "code",
   "execution_count": 4,
   "metadata": {},
   "outputs": [],
   "source": [
    "###importing all the necessary libraries\n",
    "\n",
    "import pandas as pd\n",
    "import json"
   ]
  },
  {
   "cell_type": "code",
   "execution_count": 4,
   "metadata": {},
   "outputs": [],
   "source": [
    "###reading the input files providede by Customindz:\n",
    "\n",
    "class_description = pd.read_csv(\"C:\\\\Users\\\\\\dias_\\\\Desktop\\\\Customindz\\\\task1\\\\oidv6-class-descriptions.csv\")\n",
    "hierarchy = json.loads(open(\"C:\\\\Users\\\\dias_\\\\Desktop\\\\Customindz\\\\task1\\\\bbox_labels_600_hierarchy.json\", 'r').read())"
   ]
  },
  {
   "cell_type": "code",
   "execution_count": 5,
   "metadata": {
    "scrolled": true
   },
   "outputs": [
    {
     "name": "stdout",
     "output_type": "stream",
     "text": [
      "(19994, 2)\n"
     ]
    },
    {
     "data": {
      "text/html": [
       "<div>\n",
       "<style scoped>\n",
       "    .dataframe tbody tr th:only-of-type {\n",
       "        vertical-align: middle;\n",
       "    }\n",
       "\n",
       "    .dataframe tbody tr th {\n",
       "        vertical-align: top;\n",
       "    }\n",
       "\n",
       "    .dataframe thead th {\n",
       "        text-align: right;\n",
       "    }\n",
       "</style>\n",
       "<table border=\"1\" class=\"dataframe\">\n",
       "  <thead>\n",
       "    <tr style=\"text-align: right;\">\n",
       "      <th></th>\n",
       "      <th>LabelName</th>\n",
       "      <th>DisplayName</th>\n",
       "    </tr>\n",
       "  </thead>\n",
       "  <tbody>\n",
       "    <tr>\n",
       "      <th>0</th>\n",
       "      <td>/m/0100nhbf</td>\n",
       "      <td>Sprenger's tulip</td>\n",
       "    </tr>\n",
       "    <tr>\n",
       "      <th>1</th>\n",
       "      <td>/m/0104x9kv</td>\n",
       "      <td>Vinegret</td>\n",
       "    </tr>\n",
       "    <tr>\n",
       "      <th>2</th>\n",
       "      <td>/m/0105jzwx</td>\n",
       "      <td>Dabu-dabu</td>\n",
       "    </tr>\n",
       "    <tr>\n",
       "      <th>3</th>\n",
       "      <td>/m/0105ld7g</td>\n",
       "      <td>Pistachio ice cream</td>\n",
       "    </tr>\n",
       "    <tr>\n",
       "      <th>4</th>\n",
       "      <td>/m/0105lxy5</td>\n",
       "      <td>Woku</td>\n",
       "    </tr>\n",
       "  </tbody>\n",
       "</table>\n",
       "</div>"
      ],
      "text/plain": [
       "     LabelName          DisplayName\n",
       "0  /m/0100nhbf     Sprenger's tulip\n",
       "1  /m/0104x9kv             Vinegret\n",
       "2  /m/0105jzwx            Dabu-dabu\n",
       "3  /m/0105ld7g  Pistachio ice cream\n",
       "4  /m/0105lxy5                 Woku"
      ]
     },
     "execution_count": 5,
     "metadata": {},
     "output_type": "execute_result"
    }
   ],
   "source": [
    "###inspecting input files:\n",
    "\n",
    "print(class_description.shape)\n",
    "class_description.head()"
   ]
  },
  {
   "cell_type": "code",
   "execution_count": 6,
   "metadata": {},
   "outputs": [
    {
     "data": {
      "text/plain": [
       "Lilac             2\n",
       "Gopher snake      2\n",
       "Powder            2\n",
       "Friendship day    2\n",
       "Anole             2\n",
       "                 ..\n",
       "Golf equipment    1\n",
       "Honda cr-z        1\n",
       "Rally cap         1\n",
       "Glider            1\n",
       "Baptism           1\n",
       "Name: DisplayName, Length: 19982, dtype: int64"
      ]
     },
     "execution_count": 6,
     "metadata": {},
     "output_type": "execute_result"
    }
   ],
   "source": [
    "### we could observe that the csv file has 19994 unique values for LabelNames and \n",
    "### a few duplicated for DisplayName. Therefore, LabelName column will be a unique key of classes\n",
    "\n",
    "class_description['DisplayName'].value_counts()"
   ]
  },
  {
   "cell_type": "code",
   "execution_count": 8,
   "metadata": {},
   "outputs": [],
   "source": [
    "### according to our solution, we decided to recursively search over nested dictionary.\n",
    "### this will take O(n) time\n",
    "\n",
    "class Parser:\n",
    "    \n",
    "    def __init__(self, hierarchy_file_path, class_description_path):\n",
    "        \n",
    "        self.hierarchy = json.loads(open(hierarchy_file_path, 'r').read())\n",
    "        self.class_description = pd.read_csv(class_description_path)\n",
    "        self.siblings = []\n",
    "        self.ancestors = []\n",
    "        self.sibling_ancestor_pairs = []\n",
    "        \n",
    "\n",
    "### the main algorithm used for searching:\n",
    "    def recursive_search(self, class_name, dictionary, parent_class=None, ancestors = None):\n",
    "        \n",
    "        for key, value in dictionary.items():\n",
    "            if (key == 'LabelName') & (value == class_name):\n",
    "                for sibling in parent_class['Subcategory']:\n",
    "                    self.siblings.append(sibling['LabelName'])\n",
    "                ancestors = str(self.ancestors)\n",
    "                self.sibling_ancestor_pairs.append([self.siblings, ancestors])\n",
    "                self.siblings = []\n",
    "        \n",
    "            if (key == 'Subcategory'):\n",
    "                self.ancestors.append(dictionary['LabelName'])\n",
    "                for subcategories in dictionary['Subcategory']:\n",
    "                    self.recursive_search(class_name, subcategories, dictionary, self.ancestors)\n",
    "                self.ancestors.pop()\n",
    "                    \n",
    "                \n",
    "### a) finding all siblings class of a class name\n",
    "    def finding_all_siblings(self, class_DisplayName):\n",
    "        \n",
    "        ### identifying the LabelName from DisplayName via given dataframe\n",
    "        ### according to paper specifications, we should handle exceptions:\n",
    "        try:\n",
    "            LabelName = self.class_description['LabelName'][self.class_description['DisplayName'] == class_DisplayName]\n",
    "        except:\n",
    "            print(\"Given DisplayName is not included in provided csv file\")\n",
    "\n",
    "        ### as there might be many label names having the same display name:\n",
    "        ### which we found during analysis of dataframe\n",
    "        for i in range(len(LabelName)):\n",
    "            \n",
    "            ### we have to empty our arrays during each cycle\n",
    "            self.siblings = []; self.ancestors = []; self.sibling_ancestor_pairs = []\n",
    "            class_name = LabelName.iloc[i]\n",
    "            self.recursive_search(class_name, dictionary = self.hierarchy)\n",
    "            \n",
    "            try:\n",
    "                for sib in self.sibling_ancestor_pairs:\n",
    "    \n",
    "                    ### for your checking purposes I decided to write out my results:\n",
    "                    with open('siblings.txt', 'w+') as file:\n",
    "                        string = \"Siblings of \" + class_DisplayName + \" are: \"\n",
    "                        file.write(string)\n",
    "                        for classes in sib[0]:\n",
    "                            DisplayName = self.class_description['DisplayName'][self.class_description['LabelName'] == classes]\n",
    "                            string2 = DisplayName.iloc[0] + \" \"\n",
    "                            file.write(string2)\n",
    "                        file.write(\"\\n\")\n",
    "            except:\n",
    "                print(\"Error with hierarchy json file, given class_name was not found\")\n",
    "    \n",
    "\n",
    "### b) finding the parent class of a class name\n",
    "    def finding_parent_class(self, class_DisplayName):\n",
    "        \n",
    "        ### this function uses almost the same logic (therefore doesnt need detailed commenting) \n",
    "        ### as the \"finding_all_siblings\" function:\n",
    "        try:\n",
    "            LabelName = self.class_description['LabelName'][self.class_description['DisplayName'] == class_DisplayName]\n",
    "        except:\n",
    "            print(\"Given DisplayName is not included in provided csv file\")\n",
    "        \n",
    "        for i in range(len(LabelName)):\n",
    "            self.siblings = []; self.ancestors = []; self.sibling_ancestor_pairs = []\n",
    "            class_name = LabelName.iloc[i]\n",
    "            self.recursive_search(class_name, dictionary = self.hierarchy)\n",
    "            num_branches = len(self.sibling_ancestor_pairs)\n",
    "            string1 = \"There are \" + str(num_branches) + \" branches for \" + class_DisplayName + \": \\n\"\n",
    "            file = open(\"parents.txt\", 'w+')\n",
    "            file.write(string1)\n",
    "            branch = 1\n",
    "            try:\n",
    "                for i in self.sibling_ancestor_pairs:\n",
    "                    temp_arr = i[-1].split(\"'\")\n",
    "                    ancestors = []\n",
    "                    for i in range(len(temp_arr)):\n",
    "                        if i%2 == 0:\n",
    "                            ancestors.append(temp_arr[i-1])\n",
    "                    parent = ancestors[-1]\n",
    "                    Parent_display = self.class_description['DisplayName'][self.class_description['LabelName'] == parent]\n",
    "                    string = \"Parents of branch number \" + str(branch) + \": \" + Parent_display.iloc[0] + \"\\n\"\n",
    "                    file.write(string)\n",
    "                    branch += 1\n",
    "            except:\n",
    "                print(\"Error with hierarchy json file, given class_name was not found\")\n",
    "\n",
    "\n",
    "### c) finding all ancestor classes of a class name\n",
    "    def finding_all_ancestors(self, class_DisplayName):\n",
    "        \n",
    "        try:\n",
    "            LabelName = self.class_description['LabelName'][self.class_description['DisplayName'] == class_DisplayName]\n",
    "        except:\n",
    "            print(\"Given DisplayName is not included in provided csv file\")\n",
    "        \n",
    "        for i in range(len(LabelName)):\n",
    "            self.siblings = []; self.ancestors = []; self.sibling_ancestor_pairs = []\n",
    "            class_name = LabelName.iloc[i]\n",
    "            self.recursive_search(class_name, dictionary = self.hierarchy)\n",
    "            num_branches = len(self.sibling_ancestor_pairs)\n",
    "            string1 = \"There are \" + str(num_branches) + \" branches for \" + class_DisplayName + \": \\n\"\n",
    "            file = open(\"ancestors.txt\", 'w+')\n",
    "            file.write(string1)\n",
    "            branch = 1\n",
    "            try:\n",
    "                for i in self.sibling_ancestor_pairs:\n",
    "                    temp_arr = i[-1].split(\"'\")\n",
    "                    ancestors = []\n",
    "                    for i in range(len(temp_arr)):\n",
    "                        if i%2 == 0:\n",
    "                            ancestors.append(temp_arr[i-1])\n",
    "                    ancestor = ancestors[1:]\n",
    "                    for i in range(len(ancestor)):\n",
    "                        ancestor_display = self.class_description['DisplayName'][self.class_description['LabelName'] == ancestor[i]]\n",
    "                        try:\n",
    "                            ancestor[i] = ancestor_display.iloc[0]\n",
    "                        except:\n",
    "                            pass\n",
    "                    string = \"Ancestors of branch number \" + str(branch) + \": \"\n",
    "                    for i in ancestor:\n",
    "                        string = string + i + \" \"\n",
    "                    file.write(string); file.write(\"\\n\")\n",
    "                    branch += 1\n",
    "            except:\n",
    "                print(\"Error with hierarchy json file, given class_name was not found\")\n",
    "\n",
    "\n",
    "### d) finding if both class 1 and class 2 belong to the same ancestor class(es)\n",
    "    def comparing_two_classes(self, class_DisplayName1, class_DisplayName2):\n",
    "        \n",
    "        try:\n",
    "            LabelNames = [self.class_description['LabelName'][self.class_description['DisplayName'] == class_DisplayName1].iloc[0],\n",
    "                          self.class_description['LabelName'][self.class_description['DisplayName'] == class_DisplayName2].iloc[0]]\n",
    "        except:\n",
    "            print(\"Given DisplayNames are not included in the provided csv-file\")\n",
    "\n",
    "        array1 = []; array2 = [];\n",
    "        for label_num in range(len(LabelNames)):\n",
    "            self.siblings = []; self.ancestors = []; self.sibling_ancestor_pairs = []\n",
    "            self.recursive_search(LabelNames[label_num], dictionary = self.hierarchy)\n",
    "            num_branches = len(self.sibling_ancestor_pairs)\n",
    "            branch = 1\n",
    "            try:\n",
    "                for i in self.sibling_ancestor_pairs:\n",
    "                    temp_arr = i[-1].split(\"'\")\n",
    "                    ancestors = []\n",
    "                    for i in range(len(temp_arr)):\n",
    "                        if i%2 == 0: ancestors.append(temp_arr[i-1])\n",
    "                    ancestor = ancestors[1:]\n",
    "                    if label_num == 0: array1.append(ancestor)\n",
    "                    else: array2.append(ancestor)\n",
    "                    branch += 1\n",
    "            except:\n",
    "                print(\"Error with hierarchy json file, given class_name was not found\")\n",
    "\n",
    "        file = open(\"comparing_classess.txt\", 'a+')\n",
    "        for i in range(len(array1)):\n",
    "            for j in range(len(array2)):\n",
    "                if array1[i]==array2[j]:\n",
    "                    string = \"There is a similarity at {}th position of {} and {}th position of {}\\n\".format(i, class_DisplayName1, j, class_DisplayName2)\n",
    "                    file.write(string)\n",
    "\n"
   ]
  },
  {
   "cell_type": "markdown",
   "metadata": {},
   "source": [
    "---\n",
    "For verification purposes, we tested all the functions. The results are provided as txt_files.\n",
    "\"Oyster\" and \"Lobster\" were used for testings.\n"
   ]
  },
  {
   "cell_type": "code",
   "execution_count": 20,
   "metadata": {},
   "outputs": [],
   "source": [
    "path_of_json_file = \"C:\\\\Users\\\\dias_\\\\Desktop\\\\Customindz\\\\task1\\\\bbox_labels_600_hierarchy.json\"\n",
    "path_of_csv_file = \"C:\\\\Users\\\\\\dias_\\\\Desktop\\\\Customindz\\\\task1\\\\oidv6-class-descriptions.csv\"\n",
    "\n",
    "### constructing our object:\n",
    "parser = Parser(hierarchy_file_path = path_of_json_file, class_description_path = path_of_csv_file)"
   ]
  },
  {
   "cell_type": "code",
   "execution_count": 21,
   "metadata": {},
   "outputs": [],
   "source": [
    "### testing out every function:\n",
    "parser.finding_all_siblings('Oyster')\n",
    "parser.finding_parent_class('Oyster')\n",
    "parser.finding_all_ancestors('Oyster')\n",
    "parser.comparing_two_classes('Oyster', 'Lobster')"
   ]
  },
  {
   "cell_type": "markdown",
   "metadata": {},
   "source": [
    "For results verification purposes, you could refer to the attached txt files."
   ]
  },
  {
   "cell_type": "code",
   "execution_count": null,
   "metadata": {},
   "outputs": [],
   "source": []
  },
  {
   "cell_type": "code",
   "execution_count": null,
   "metadata": {},
   "outputs": [],
   "source": []
  }
 ],
 "metadata": {
  "kernelspec": {
   "display_name": "Python 3",
   "language": "python",
   "name": "python3"
  },
  "language_info": {
   "codemirror_mode": {
    "name": "ipython",
    "version": 3
   },
   "file_extension": ".py",
   "mimetype": "text/x-python",
   "name": "python",
   "nbconvert_exporter": "python",
   "pygments_lexer": "ipython3",
   "version": "3.8.3"
  }
 },
 "nbformat": 4,
 "nbformat_minor": 4
}
